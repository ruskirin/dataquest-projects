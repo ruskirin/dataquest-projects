{
 "cells": [
  {
   "cell_type": "code",
   "execution_count": 1,
   "id": "heard-novel",
   "metadata": {},
   "outputs": [
    {
     "name": "stdout",
     "output_type": "stream",
     "text": [
      "Requirement already satisfied: ipython-sql in /home/rimov/anaconda3/envs/deeplearn_env/lib/python3.7/site-packages (0.4.0)\n",
      "Requirement already satisfied: sqlparse in /home/rimov/anaconda3/envs/deeplearn_env/lib/python3.7/site-packages (from ipython-sql) (0.4.1)\n",
      "Requirement already satisfied: sqlalchemy>=0.6.7 in /home/rimov/anaconda3/envs/deeplearn_env/lib/python3.7/site-packages (from ipython-sql) (1.3.23)\n",
      "Requirement already satisfied: ipython-genutils>=0.1.0 in /home/rimov/anaconda3/envs/deeplearn_env/lib/python3.7/site-packages (from ipython-sql) (0.2.0)\n",
      "Requirement already satisfied: six in /home/rimov/anaconda3/envs/deeplearn_env/lib/python3.7/site-packages (from ipython-sql) (1.15.0)\n",
      "Requirement already satisfied: prettytable<1 in /home/rimov/anaconda3/envs/deeplearn_env/lib/python3.7/site-packages (from ipython-sql) (0.7.2)\n",
      "Requirement already satisfied: ipython>=1.0 in /home/rimov/anaconda3/envs/deeplearn_env/lib/python3.7/site-packages (from ipython-sql) (7.21.0)\n",
      "Requirement already satisfied: pickleshare in /home/rimov/anaconda3/envs/deeplearn_env/lib/python3.7/site-packages (from ipython>=1.0->ipython-sql) (0.7.5)\n",
      "Requirement already satisfied: prompt-toolkit!=3.0.0,!=3.0.1,<3.1.0,>=2.0.0 in /home/rimov/anaconda3/envs/deeplearn_env/lib/python3.7/site-packages (from ipython>=1.0->ipython-sql) (3.0.8)\n",
      "Requirement already satisfied: traitlets>=4.2 in /home/rimov/anaconda3/envs/deeplearn_env/lib/python3.7/site-packages (from ipython>=1.0->ipython-sql) (5.0.5)\n",
      "Requirement already satisfied: backcall in /home/rimov/anaconda3/envs/deeplearn_env/lib/python3.7/site-packages (from ipython>=1.0->ipython-sql) (0.2.0)\n",
      "Requirement already satisfied: pexpect>4.3 in /home/rimov/anaconda3/envs/deeplearn_env/lib/python3.7/site-packages (from ipython>=1.0->ipython-sql) (4.8.0)\n",
      "Requirement already satisfied: decorator in /home/rimov/anaconda3/envs/deeplearn_env/lib/python3.7/site-packages (from ipython>=1.0->ipython-sql) (4.4.2)\n",
      "Requirement already satisfied: setuptools>=18.5 in /home/rimov/anaconda3/envs/deeplearn_env/lib/python3.7/site-packages (from ipython>=1.0->ipython-sql) (52.0.0.post20210125)\n",
      "Requirement already satisfied: pygments in /home/rimov/anaconda3/envs/deeplearn_env/lib/python3.7/site-packages (from ipython>=1.0->ipython-sql) (2.8.1)\n",
      "Requirement already satisfied: jedi>=0.16 in /home/rimov/anaconda3/envs/deeplearn_env/lib/python3.7/site-packages (from ipython>=1.0->ipython-sql) (0.17.2)\n",
      "Requirement already satisfied: parso<0.8.0,>=0.7.0 in /home/rimov/anaconda3/envs/deeplearn_env/lib/python3.7/site-packages (from jedi>=0.16->ipython>=1.0->ipython-sql) (0.7.0)\n",
      "Requirement already satisfied: ptyprocess>=0.5 in /home/rimov/anaconda3/envs/deeplearn_env/lib/python3.7/site-packages (from pexpect>4.3->ipython>=1.0->ipython-sql) (0.7.0)\n",
      "Requirement already satisfied: wcwidth in /home/rimov/anaconda3/envs/deeplearn_env/lib/python3.7/site-packages (from prompt-toolkit!=3.0.0,!=3.0.1,<3.1.0,>=2.0.0->ipython>=1.0->ipython-sql) (0.2.5)\n"
     ]
    }
   ],
   "source": [
    "!pip install ipython-sql"
   ]
  },
  {
   "cell_type": "code",
   "execution_count": 2,
   "id": "martial-illinois",
   "metadata": {},
   "outputs": [
    {
     "data": {
      "text/plain": [
       "'1.3.23'"
      ]
     },
     "execution_count": 2,
     "metadata": {},
     "output_type": "execute_result"
    }
   ],
   "source": [
    "import sqlalchemy as salc\n",
    "salc.__version__"
   ]
  },
  {
   "cell_type": "code",
   "execution_count": 8,
   "id": "marked-honey",
   "metadata": {},
   "outputs": [
    {
     "data": {
      "text/plain": [
       "Engine(sqlite:///factbook.db)"
      ]
     },
     "execution_count": 8,
     "metadata": {},
     "output_type": "execute_result"
    }
   ],
   "source": [
    "salc.create_engine(\"sqlite:///factbook.db\")"
   ]
  },
  {
   "cell_type": "code",
   "execution_count": 10,
   "id": "handed-bosnia",
   "metadata": {},
   "outputs": [],
   "source": [
    "%%capture\n",
    "%load_ext sql"
   ]
  },
  {
   "cell_type": "code",
   "execution_count": 11,
   "id": "fatty-indonesian",
   "metadata": {},
   "outputs": [],
   "source": [
    "%sql sqlite:///factbook.db"
   ]
  },
  {
   "cell_type": "code",
   "execution_count": 13,
   "id": "prime-anger",
   "metadata": {},
   "outputs": [
    {
     "name": "stdout",
     "output_type": "stream",
     "text": [
      " * sqlite:///factbook.db\n",
      "(sqlite3.OperationalError) no such table: facts\n",
      "[SQL: SELECT * FROM facts\n",
      "LIMIT 5;]\n",
      "(Background on this error at: http://sqlalche.me/e/13/e3q8)\n"
     ]
    }
   ],
   "source": [
    "%%sql\n",
    "SELECT *\n",
    "FROM facts\n",
    "LIMIT 5;"
   ]
  },
  {
   "cell_type": "code",
   "execution_count": null,
   "id": "equal-albuquerque",
   "metadata": {},
   "outputs": [],
   "source": []
  }
 ],
 "metadata": {
  "kernelspec": {
   "display_name": "Python 3",
   "language": "python",
   "name": "python3"
  },
  "language_info": {
   "codemirror_mode": {
    "name": "ipython",
    "version": 3
   },
   "file_extension": ".py",
   "mimetype": "text/x-python",
   "name": "python",
   "nbconvert_exporter": "python",
   "pygments_lexer": "ipython3",
   "version": "3.7.10"
  }
 },
 "nbformat": 4,
 "nbformat_minor": 5
}
