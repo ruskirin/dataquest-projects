{
 "cells": [
  {
   "cell_type": "markdown",
   "metadata": {
    "collapsed": true
   },
   "source": [
    "# _Hacker News_ Analysis"
   ]
  },
  {
   "cell_type": "markdown",
   "metadata": {},
   "source": [
    "_Hacker News_ is a popular tech site akin in function to _Reddit_. Users post articles which relate to latest tech/science and then have the ability to discuss them. Much like _Reddit_, there is a voting and a ***karma*** system, which sets users and posts apart from one another."
   ]
  },
  {
   "cell_type": "markdown",
   "metadata": {},
   "source": [
    "### Goal:"
   ]
  },
  {
   "cell_type": "markdown",
   "metadata": {},
   "source": [
    "To analyse and compare user statistics from <code>Ask HN</code> and <code>Show HN</code>, which are two possible types of posts on _Hacker News_. Specifically:\n",
    "* Do <code>Ask HN</code> or <code>Show HN</code> receive more comments on average?\n",
    "* Do posts created at a certain time receive more comments on average?"
   ]
  },
  {
   "cell_type": "code",
   "execution_count": 1,
   "metadata": {},
   "outputs": [],
   "source": [
    "from csv import reader"
   ]
  },
  {
   "cell_type": "code",
   "execution_count": 2,
   "metadata": {},
   "outputs": [],
   "source": [
    "open_file = open(\"hacker_news.csv\")\n",
    "read_file = reader(open_file)\n",
    "\n",
    "hn = list(read_file)\n",
    "\n",
    "headers = hn[0]\n",
    "hn = hn[1:]"
   ]
  },
  {
   "cell_type": "code",
   "execution_count": 3,
   "metadata": {},
   "outputs": [
    {
     "name": "stdout",
     "output_type": "stream",
     "text": [
      "['id', 'title', 'url', 'num_points', 'num_comments', 'author', 'created_at']\n"
     ]
    },
    {
     "data": {
      "text/plain": [
       "[['12224879',\n",
       "  'Interactive Dynamic Video',\n",
       "  'http://www.interactivedynamicvideo.com/',\n",
       "  '386',\n",
       "  '52',\n",
       "  'ne0phyte',\n",
       "  '8/4/2016 11:52'],\n",
       " ['10975351',\n",
       "  'How to Use Open Source and Shut the Fuck Up at the Same Time',\n",
       "  'http://hueniverse.com/2016/01/26/how-to-use-open-source-and-shut-the-fuck-up-at-the-same-time/',\n",
       "  '39',\n",
       "  '10',\n",
       "  'josep2',\n",
       "  '1/26/2016 19:30'],\n",
       " ['11964716',\n",
       "  \"Florida DJs May Face Felony for April Fools' Water Joke\",\n",
       "  'http://www.thewire.com/entertainment/2013/04/florida-djs-april-fools-water-joke/63798/',\n",
       "  '2',\n",
       "  '1',\n",
       "  'vezycash',\n",
       "  '6/23/2016 22:20'],\n",
       " ['11919867',\n",
       "  'Technology ventures: From Idea to Enterprise',\n",
       "  'https://www.amazon.com/Technology-Ventures-Enterprise-Thomas-Byers/dp/0073523429',\n",
       "  '3',\n",
       "  '1',\n",
       "  'hswarna',\n",
       "  '6/17/2016 0:01'],\n",
       " ['10301696',\n",
       "  'Note by Note: The Making of Steinway L1037 (2007)',\n",
       "  'http://www.nytimes.com/2007/11/07/movies/07stein.html?_r=0',\n",
       "  '8',\n",
       "  '2',\n",
       "  'walterbell',\n",
       "  '9/30/2015 4:12']]"
      ]
     },
     "execution_count": 3,
     "metadata": {},
     "output_type": "execute_result"
    }
   ],
   "source": [
    "print(headers)\n",
    "hn[:5]"
   ]
  },
  {
   "cell_type": "code",
   "execution_count": 4,
   "metadata": {},
   "outputs": [
    {
     "name": "stdout",
     "output_type": "stream",
     "text": [
      "Ask posts: 1744, show posts: 1162, other posts: 17194\n"
     ]
    }
   ],
   "source": [
    "ask_posts = []\n",
    "show_posts = []\n",
    "other_posts = []\n",
    "\n",
    "for post in hn:\n",
    "    title = post[1].lower()\n",
    "    \n",
    "    if title.startswith(\"ask hn\"):\n",
    "        ask_posts.append(post)\n",
    "    elif title.startswith(\"show hn\"):\n",
    "        show_posts.append(post)\n",
    "    else:\n",
    "        other_posts.append(post)\n",
    "\n",
    "print(f\"Ask posts: {len(ask_posts)}, show posts: {len(show_posts)}, other posts: {len(other_posts)}\")"
   ]
  },
  {
   "cell_type": "code",
   "execution_count": 5,
   "metadata": {},
   "outputs": [
    {
     "name": "stdout",
     "output_type": "stream",
     "text": [
      "Average 'Ask HN' comments: 14.04\n",
      "Average 'Show HN' comments: 10.32\n"
     ]
    }
   ],
   "source": [
    "ask_comments = 0\n",
    "show_comments = 0\n",
    "\n",
    "for post in ask_posts:\n",
    "    ask_comments += int(post[4])\n",
    "\n",
    "for post in show_posts:\n",
    "    show_comments += int(post[4])\n",
    "    \n",
    "avg_ask_comments = ask_comments/len(ask_posts)\n",
    "print(f\"Average 'Ask HN' comments: {avg_ask_comments:.2f}\")\n",
    "\n",
    "avg_show_comments = show_comments/len(show_posts)\n",
    "print(f\"Average 'Show HN' comments: {avg_show_comments:.2f}\")"
   ]
  },
  {
   "cell_type": "markdown",
   "metadata": {},
   "source": [
    "Computed average comment amount per post can be seen above. The results are predictable because of the nature of the posts - <code>Ask HN</code> are queries, meant to prompt a reply from readers."
   ]
  },
  {
   "cell_type": "code",
   "execution_count": 6,
   "metadata": {},
   "outputs": [],
   "source": [
    "import datetime as dt"
   ]
  },
  {
   "cell_type": "markdown",
   "metadata": {},
   "source": [
    "For the time being will focus on <code>Ask HN</code> posts."
   ]
  },
  {
   "cell_type": "code",
   "execution_count": 7,
   "metadata": {},
   "outputs": [],
   "source": [
    "result_list = [[], []]\n",
    "\n",
    "date_format = \"%m/%d/%Y %H:%M\"\n",
    "\n",
    "for post in ask_posts:\n",
    "    time = dt.datetime.strptime(post[6], date_format)\n",
    "    comms = int(post[4])\n",
    "    \n",
    "    result_list[0].append(time)\n",
    "    result_list[1].append(comms)\n",
    "    \n",
    "counts_by_hour = {}\n",
    "comments_by_hour = {}\n",
    "\n",
    "for i, time in enumerate(result_list[0]):\n",
    "    hour = time.strftime(\"%H\") + \":00\"\n",
    "    \n",
    "    if hour not in counts_by_hour:\n",
    "        counts_by_hour[hour] = 1\n",
    "        comments_by_hour[hour] = result_list[1][i]\n",
    "    else:\n",
    "        counts_by_hour[hour] += 1\n",
    "        comments_by_hour[hour] += result_list[1][i]"
   ]
  },
  {
   "cell_type": "code",
   "execution_count": 8,
   "metadata": {},
   "outputs": [
    {
     "data": {
      "text/plain": [
       "{'09:00': 45,\n",
       " '13:00': 85,\n",
       " '10:00': 59,\n",
       " '14:00': 107,\n",
       " '16:00': 108,\n",
       " '23:00': 68,\n",
       " '12:00': 73,\n",
       " '17:00': 100,\n",
       " '15:00': 116,\n",
       " '21:00': 109,\n",
       " '20:00': 80,\n",
       " '02:00': 58,\n",
       " '18:00': 109,\n",
       " '03:00': 54,\n",
       " '05:00': 46,\n",
       " '19:00': 110,\n",
       " '01:00': 60,\n",
       " '22:00': 71,\n",
       " '08:00': 48,\n",
       " '04:00': 47,\n",
       " '00:00': 55,\n",
       " '06:00': 44,\n",
       " '07:00': 34,\n",
       " '11:00': 58}"
      ]
     },
     "execution_count": 8,
     "metadata": {},
     "output_type": "execute_result"
    }
   ],
   "source": [
    "counts_by_hour"
   ]
  },
  {
   "cell_type": "code",
   "execution_count": 9,
   "metadata": {},
   "outputs": [
    {
     "data": {
      "text/plain": [
       "[['09:00', 5.5777777777777775],\n",
       " ['13:00', 14.741176470588234],\n",
       " ['10:00', 13.440677966101696],\n",
       " ['14:00', 13.233644859813085],\n",
       " ['16:00', 16.796296296296298],\n",
       " ['23:00', 7.985294117647059],\n",
       " ['12:00', 9.41095890410959],\n",
       " ['17:00', 11.46],\n",
       " ['15:00', 38.5948275862069],\n",
       " ['21:00', 16.009174311926607],\n",
       " ['20:00', 21.525],\n",
       " ['02:00', 23.810344827586206],\n",
       " ['18:00', 13.20183486238532],\n",
       " ['03:00', 7.796296296296297],\n",
       " ['05:00', 10.08695652173913],\n",
       " ['19:00', 10.8],\n",
       " ['01:00', 11.383333333333333],\n",
       " ['22:00', 6.746478873239437],\n",
       " ['08:00', 10.25],\n",
       " ['04:00', 7.170212765957447],\n",
       " ['00:00', 8.127272727272727],\n",
       " ['06:00', 9.022727272727273],\n",
       " ['07:00', 7.852941176470588],\n",
       " ['11:00', 11.051724137931034]]"
      ]
     },
     "execution_count": 9,
     "metadata": {},
     "output_type": "execute_result"
    }
   ],
   "source": [
    "avg_by_hour = [[hour, comments_by_hour[hour]/counts_by_hour[hour]] \n",
    "               for hour in counts_by_hour.keys()]\n",
    "    \n",
    "avg_by_hour"
   ]
  },
  {
   "cell_type": "code",
   "execution_count": 10,
   "metadata": {},
   "outputs": [
    {
     "data": {
      "text/plain": [
       "[[5.5777777777777775, '09:00'],\n",
       " [14.741176470588234, '13:00'],\n",
       " [13.440677966101696, '10:00'],\n",
       " [13.233644859813085, '14:00'],\n",
       " [16.796296296296298, '16:00'],\n",
       " [7.985294117647059, '23:00'],\n",
       " [9.41095890410959, '12:00'],\n",
       " [11.46, '17:00'],\n",
       " [38.5948275862069, '15:00'],\n",
       " [16.009174311926607, '21:00'],\n",
       " [21.525, '20:00'],\n",
       " [23.810344827586206, '02:00'],\n",
       " [13.20183486238532, '18:00'],\n",
       " [7.796296296296297, '03:00'],\n",
       " [10.08695652173913, '05:00'],\n",
       " [10.8, '19:00'],\n",
       " [11.383333333333333, '01:00'],\n",
       " [6.746478873239437, '22:00'],\n",
       " [10.25, '08:00'],\n",
       " [7.170212765957447, '04:00'],\n",
       " [8.127272727272727, '00:00'],\n",
       " [9.022727272727273, '06:00'],\n",
       " [7.852941176470588, '07:00'],\n",
       " [11.051724137931034, '11:00']]"
      ]
     },
     "execution_count": 10,
     "metadata": {},
     "output_type": "execute_result"
    }
   ],
   "source": [
    "swap_avg_by_hour = [[b, a] for a, b in avg_by_hour]\n",
    "swap_avg_by_hour"
   ]
  },
  {
   "cell_type": "code",
   "execution_count": 11,
   "metadata": {},
   "outputs": [
    {
     "data": {
      "text/plain": [
       "[[38.5948275862069, '15:00'],\n",
       " [23.810344827586206, '02:00'],\n",
       " [21.525, '20:00'],\n",
       " [16.796296296296298, '16:00'],\n",
       " [16.009174311926607, '21:00'],\n",
       " [14.741176470588234, '13:00'],\n",
       " [13.440677966101696, '10:00'],\n",
       " [13.233644859813085, '14:00'],\n",
       " [13.20183486238532, '18:00'],\n",
       " [11.46, '17:00'],\n",
       " [11.383333333333333, '01:00'],\n",
       " [11.051724137931034, '11:00'],\n",
       " [10.8, '19:00'],\n",
       " [10.25, '08:00'],\n",
       " [10.08695652173913, '05:00'],\n",
       " [9.41095890410959, '12:00'],\n",
       " [9.022727272727273, '06:00'],\n",
       " [8.127272727272727, '00:00'],\n",
       " [7.985294117647059, '23:00'],\n",
       " [7.852941176470588, '07:00'],\n",
       " [7.796296296296297, '03:00'],\n",
       " [7.170212765957447, '04:00'],\n",
       " [6.746478873239437, '22:00'],\n",
       " [5.5777777777777775, '09:00']]"
      ]
     },
     "execution_count": 11,
     "metadata": {},
     "output_type": "execute_result"
    }
   ],
   "source": [
    "sorted_swap = sorted(swap_avg_by_hour, reverse=True)\n",
    "sorted_swap"
   ]
  },
  {
   "cell_type": "code",
   "execution_count": 13,
   "metadata": {},
   "outputs": [
    {
     "name": "stdout",
     "output_type": "stream",
     "text": [
      "Top 5 Hours for Ask Posts Comments:\n",
      "\n",
      "15:00: 38.59 average comments per post\n",
      "02:00: 23.81 average comments per post\n",
      "20:00: 21.52 average comments per post\n",
      "16:00: 16.80 average comments per post\n",
      "21:00: 16.01 average comments per post\n"
     ]
    }
   ],
   "source": [
    "print(f\"Top 5 Hours for Ask Posts Comments:\\n\")\n",
    "\n",
    "for s in sorted_swap[:5]:\n",
    "    print(f\"{s[1]}: {s[0]:.2f} average comments per post\")"
   ]
  },
  {
   "cell_type": "markdown",
   "metadata": {},
   "source": [
    "### Conclusion\n",
    "\n",
    "Surprisingly, the hours with most average comments are rather dispersed; there is no one best time interval to post, albeit 15:00 seems to record the greatest average, the next best times are 2:00 in the morning or 20:00 in the evening. The timing undoubtedly coincides with populated timezones, and usual time when most people get back from work."
   ]
  },
  {
   "cell_type": "code",
   "execution_count": null,
   "metadata": {},
   "outputs": [],
   "source": []
  }
 ],
 "metadata": {
  "kernelspec": {
   "display_name": "Python 3",
   "language": "python",
   "name": "python3"
  },
  "language_info": {
   "codemirror_mode": {
    "name": "ipython",
    "version": 3
   },
   "file_extension": ".py",
   "mimetype": "text/x-python",
   "name": "python",
   "nbconvert_exporter": "python",
   "pygments_lexer": "ipython3",
   "version": "3.8.2"
  }
 },
 "nbformat": 4,
 "nbformat_minor": 2
}
